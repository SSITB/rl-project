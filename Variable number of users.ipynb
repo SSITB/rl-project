{
 "cells": [
  {
   "cell_type": "markdown",
   "metadata": {},
   "source": [
    "# Variable number of users !\n",
    "let's try to change the number of users on the fly and compare those guys :-)"
   ]
  },
  {
   "cell_type": "code",
   "execution_count": 8,
   "metadata": {
    "collapsed": false
   },
   "outputs": [],
   "source": [
    "%matplotlib inline\n",
    "import math\n",
    "import numpy as np\n",
    "import matplotlib.pyplot as plt\n",
    "\n",
    "from tdfs.routines import tdfs_routine, tdfs_log_upper_bound\n",
    "from rho_rand.routines import rho_rand_routine\n",
    "from mega.routines import mega_routine\n",
    "from musical_chairs.routines import mc_routine\n",
    "from plots import regret_plt"
   ]
  },
  {
   "cell_type": "code",
   "execution_count": 9,
   "metadata": {
    "collapsed": true
   },
   "outputs": [],
   "source": [
    "#  UNIVERSE PARAMETERS\n",
    "n_users = 5\n",
    "n_arms = 5\n",
    "t_horizon = 10000\n",
    "arm_means = [0.2, 0.3, 0.5, 0.8, 0.85]\n",
    "best_arms_mean = np.sort(arm_means)[-n_users:]"
   ]
  },
  {
   "cell_type": "code",
   "execution_count": 10,
   "metadata": {
    "collapsed": true
   },
   "outputs": [],
   "source": [
    "# MEGA PARAMETERS\n",
    "mega_params = {\n",
    "    'c': 0.1,\n",
    "    'd': 0.05,\n",
    "    'alpha': 0.5,\n",
    "    'beta': 0.8,\n",
    "    'persistence_proba_init': 0.6\n",
    "}"
   ]
  },
  {
   "cell_type": "code",
   "execution_count": 11,
   "metadata": {
    "collapsed": false
   },
   "outputs": [
    {
     "name": "stdout",
     "output_type": "stream",
     "text": [
      "5 active users !\n",
      "5 active users !\n",
      "4 active users !\n",
      "3 active users !\n",
      "5 active users !\n",
      "5 active users !\n",
      "4 active users !\n",
      "3 active users !\n",
      "4 active users !\n",
      "2 active users !\n"
     ]
    }
   ],
   "source": [
    "mega_rewards, collisions, nbr_of_users = mega_routine(n_users, mega_params, n_arms, t_horizon, arm_means, alg='eps', variable=True)\n",
    "total_rewards_mega = np.sum(mega_rewards, axis=0)"
   ]
  },
  {
   "cell_type": "code",
   "execution_count": 12,
   "metadata": {
    "collapsed": false
   },
   "outputs": [
    {
     "name": "stderr",
     "output_type": "stream",
     "text": [
      "C:\\Program Files\\Anaconda3\\lib\\site-packages\\matplotlib\\axes\\_axes.py:531: UserWarning: No labelled objects found. Use label='...' kwarg on individual plots.\n",
      "  warnings.warn(\"No labelled objects found. \"\n"
     ]
    },
    {
     "data": {
      "image/png": "[encoded data removed]",
      "text/plain": [
       "<matplotlib.figure.Figure at 0x1be17003160>"
      ]
     },
     "metadata": {},
     "output_type": "display_data"
    }
   ],
   "source": [
    "plt.ylabel(\"Regret\")\n",
    "plt.xlabel(\"Time\")\n",
    "cmap = plt.get_cmap(\"cool\")\n",
    "\n",
    "#best arms\n",
    "best_arms = np.zeros(t_horizon)\n",
    "for i in range(t_horizon):\n",
    "    best_arms[i] = np.sort(arm_means)[-nbr_of_users[i]:].sum()\n",
    "\n",
    "regret = np.cumsum(best_arms - total_rewards_mega)\n",
    "plt.plot(regret, linewidth=2, color='#5F021F')\n",
    "plt.legend(bbox_to_anchor=(1.05, 1), loc=2, borderaxespad=0.)\n",
    "plt.show()"
   ]
  },
  {
   "cell_type": "code",
   "execution_count": null,
   "metadata": {
    "collapsed": true
   },
   "outputs": [],
   "source": []
  }
 ],
 "metadata": {
  "anaconda-cloud": {},
  "kernelspec": {
   "display_name": "Python [conda root]",
   "language": "python",
   "name": "conda-root-py"
  },
  "language_info": {
   "codemirror_mode": {
    "name": "ipython",
    "version": 3
   },
   "file_extension": ".py",
   "mimetype": "text/x-python",
   "name": "python",
   "nbconvert_exporter": "python",
   "pygments_lexer": "ipython3",
   "version": "3.5.2"
  }
 },
 "nbformat": 4,
 "nbformat_minor": 1
}
