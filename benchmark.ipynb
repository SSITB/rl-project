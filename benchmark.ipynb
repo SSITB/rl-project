{
 "cells": [
  {
   "cell_type": "code",
   "execution_count": null,
   "metadata": {
    "collapsed": false
   },
   "outputs": [],
   "source": [
    "%matplotlib inline\n",
    "import math\n",
    "import numpy as np\n",
    "\n",
    "from tdfs.routines import tdfs_routine, tdfs_log_upper_bound\n",
    "from plots import regret_plt"
   ]
  },
  {
   "cell_type": "markdown",
   "metadata": {},
   "source": [
    "# Single example TDFS\n",
    "This next run is designed just to show the results we obtain with TDFS"
   ]
  },
  {
   "cell_type": "code",
   "execution_count": null,
   "metadata": {
    "collapsed": true
   },
   "outputs": [],
   "source": [
    "#  UNIVERSE PARAMETERS\n",
    "n_users = 3\n",
    "n_arms = 5\n",
    "t_horizon = 1000\n",
    "arm_means = [0.2, 0.3, 0.5, 0.8, 0.9]\n",
    "best_arms_mean = np.sort(arm_means)\n",
    "best_arms_mean = best_arms_mean[::-1]\n",
    "best_arms_mean = best_arms_mean[:n_users]"
   ]
  },
  {
   "cell_type": "code",
   "execution_count": null,
   "metadata": {
    "collapsed": false
   },
   "outputs": [],
   "source": [
    "total_rewards = tdfs_routine(n_users, n_arms, t_horizon, arm_means, alg='ucb')"
   ]
  },
  {
   "cell_type": "code",
   "execution_count": null,
   "metadata": {
    "collapsed": false
   },
   "outputs": [],
   "source": [
    "regret_plt(best_arms_mean, total_rewards)"
   ]
  },
  {
   "cell_type": "markdown",
   "metadata": {},
   "source": [
    "# Expected regret curve\n",
    "This next section is designed to show the expected regret curve using a Monte-Carlo strategy. It also shows the upper calculated thanks to the second theorem 2."
   ]
  },
  {
   "cell_type": "code",
   "execution_count": null,
   "metadata": {
    "collapsed": false
   },
   "outputs": [],
   "source": [
    "# MONTE-CARLO PARAMETERS\n",
    "mc_horizon = 50\n",
    "rewards = np.zeros((mc_horizon, t_horizon))"
   ]
  },
  {
   "cell_type": "code",
   "execution_count": null,
   "metadata": {
    "collapsed": false
   },
   "outputs": [],
   "source": [
    "for t in range(mc_horizon):\n",
    "    rewards[t, :] = tdfs_routine(n_users, n_arms, t_horizon, arm_means)[:, 0]"
   ]
  },
  {
   "cell_type": "code",
   "execution_count": null,
   "metadata": {
    "collapsed": false
   },
   "outputs": [],
   "source": [
    "c = tdfs_log_upper_bound(n_users, arm_means)\n",
    "upper_bound = [c * math.log(t) for t in range(1, t_horizon)]\n",
    "upper_bound = [0] + upper_bound"
   ]
  },
  {
   "cell_type": "code",
   "execution_count": null,
   "metadata": {
    "collapsed": false
   },
   "outputs": [],
   "source": [
    "expected_rewards = np.mean(rewards, axis=0)\n",
    "regret_plt(best_arms_mean, expected_rewards, upper_bound=upper_bound)"
   ]
  }
 ],
 "metadata": {
  "kernelspec": {
   "display_name": "Python 3",
   "language": "python",
   "name": "python3"
  },
  "language_info": {
   "codemirror_mode": {
    "name": "ipython",
    "version": 3
   },
   "file_extension": ".py",
   "mimetype": "text/x-python",
   "name": "python",
   "nbconvert_exporter": "python",
   "pygments_lexer": "ipython3",
   "version": "3.5.2"
  }
 },
 "nbformat": 4,
 "nbformat_minor": 2
}
