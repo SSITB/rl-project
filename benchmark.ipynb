{
 "cells": [
  {
   "cell_type": "code",
   "execution_count": 3,
   "metadata": {
    "collapsed": false
   },
   "outputs": [],
   "source": [
    "%matplotlib inline\n",
    "import math\n",
    "import numpy as np\n",
    "\n",
    "from tdfs.routines import tdfs_routine, tdfs_log_upper_bound\n",
    "from rho_rand.routines import rho_rand_routine\n",
    "from mega.routines import mega_routine\n",
    "from plots import regret_plt"
   ]
  },
  {
   "cell_type": "code",
   "execution_count": 4,
   "metadata": {
    "collapsed": true
   },
   "outputs": [],
   "source": [
    "#  UNIVERSE PARAMETERS\n",
    "n_users = 3\n",
    "n_arms = 5\n",
    "t_horizon = 1000\n",
    "arm_means = [0.2, 0.3, 0.5, 0.8, 0.9]\n",
    "best_arms_mean = np.sort(arm_means)\n",
    "best_arms_mean = best_arms_mean[::-1]\n",
    "best_arms_mean = best_arms_mean[:n_users]\n",
    "# MONTE-CARLO PARAMETERS\n",
    "mc_horizon = 50"
   ]
  },
  {
   "cell_type": "markdown",
   "metadata": {},
   "source": [
    "# Single example TDFS\n",
    "This next run is designed just to show the results we obtain with TDFS"
   ]
  },
  {
   "cell_type": "code",
   "execution_count": null,
   "metadata": {
    "collapsed": false
   },
   "outputs": [],
   "source": [
    "total_rewards_tdfs = tdfs_routine(n_users, n_arms, t_horizon, arm_means, alg='ucb')"
   ]
  },
  {
   "cell_type": "code",
   "execution_count": null,
   "metadata": {
    "collapsed": false
   },
   "outputs": [],
   "source": [
    "regret_plt(best_arms_mean, total_rewards_tdfs)"
   ]
  },
  {
   "cell_type": "markdown",
   "metadata": {},
   "source": [
    "# TDFS expected regret curve\n",
    "This next section is designed to show the expected regret curve using a Monte-Carlo strategy. It also shows the upper bound calculated thanks to the theorem 2."
   ]
  },
  {
   "cell_type": "code",
   "execution_count": null,
   "metadata": {
    "collapsed": false
   },
   "outputs": [],
   "source": [
    "tdfs_rewards = np.zeros((mc_horizon, t_horizon))"
   ]
  },
  {
   "cell_type": "code",
   "execution_count": null,
   "metadata": {
    "collapsed": false
   },
   "outputs": [],
   "source": [
    "for t in range(mc_horizon):\n",
    "    tdfs_rewards[t, :] = tdfs_routine(n_users, n_arms, t_horizon, arm_means)[:, 0]"
   ]
  },
  {
   "cell_type": "code",
   "execution_count": null,
   "metadata": {
    "collapsed": false
   },
   "outputs": [],
   "source": [
    "c = tdfs_log_upper_bound(n_users, arm_means)\n",
    "upper_bound = [c * math.log(t) for t in range(1, t_horizon)]\n",
    "upper_bound = [0] + upper_bound"
   ]
  },
  {
   "cell_type": "code",
   "execution_count": null,
   "metadata": {
    "collapsed": false
   },
   "outputs": [],
   "source": [
    "tdfs_expected_rewards = np.mean(tdfs_rewards, axis=0)\n",
    "regret_plt(best_arms_mean, tdfs_expected_rewards, upper_bound=upper_bound)"
   ]
  },
  {
   "cell_type": "markdown",
   "metadata": {},
   "source": [
    "# Single example Rho Rand\n",
    "This next run is designed just to show the results we obtain with rho rand"
   ]
  },
  {
   "cell_type": "code",
   "execution_count": null,
   "metadata": {
    "collapsed": false
   },
   "outputs": [],
   "source": [
    "total_rewards_rho_rand = rho_rand_routine(n_users, n_arms, t_horizon, arm_means, alg='ucb')"
   ]
  },
  {
   "cell_type": "code",
   "execution_count": null,
   "metadata": {
    "collapsed": false
   },
   "outputs": [],
   "source": [
    "regret_plt(best_arms_mean, total_rewards_rho_rand)"
   ]
  },
  {
   "cell_type": "markdown",
   "metadata": {},
   "source": [
    "# Rho Rand expected regret curve\n",
    "This next section is designed to show the expected regret curve using a Monte-Carlo strategy."
   ]
  },
  {
   "cell_type": "code",
   "execution_count": null,
   "metadata": {
    "collapsed": true
   },
   "outputs": [],
   "source": [
    "rho_rand_rewards = np.zeros((mc_horizon, t_horizon))"
   ]
  },
  {
   "cell_type": "code",
   "execution_count": null,
   "metadata": {
    "collapsed": true
   },
   "outputs": [],
   "source": [
    "for t in range(mc_horizon):\n",
    "    rho_rand_rewards[t, :] = rho_rand_routine(n_users, n_arms, t_horizon, arm_means)[:, 0]"
   ]
  },
  {
   "cell_type": "code",
   "execution_count": null,
   "metadata": {
    "collapsed": false
   },
   "outputs": [],
   "source": [
    "rho_rand_expected_rewards = np.mean(rho_rand_rewards, axis=0)\n",
    "regret_plt(best_arms_mean, rho_rand_expected_rewards)"
   ]
  },
  {
   "cell_type": "markdown",
   "metadata": {},
   "source": [
    "# Single example Mega\n",
    "This next run is designed just to show the results we obtain with Mega"
   ]
  },
  {
   "cell_type": "code",
   "execution_count": 5,
   "metadata": {
    "collapsed": true
   },
   "outputs": [],
   "source": [
    "# MEGA PARAMETERS\n",
    "mega_params = {\n",
    "    'c': 0.1,\n",
    "    'd': 0.05,\n",
    "    'alpha': 0.5,\n",
    "    'beta': 0.8,\n",
    "    'persistence_proba_init': 0.6\n",
    "}"
   ]
  },
  {
   "cell_type": "code",
   "execution_count": 7,
   "metadata": {
    "collapsed": false
   },
   "outputs": [],
   "source": [
    "mega_rewards, collisions = mega_routine(n_users, mega_params, n_arms, t_horizon, arm_means, alg='eps')\n",
    "total_rewards_mega = np.sum(mega_rewards, axis=0)"
   ]
  },
  {
   "cell_type": "code",
   "execution_count": 8,
   "metadata": {
    "collapsed": false
   },
   "outputs": [
    {
     "data": {
      "image/png": "[encoded data removed]",
      "text/plain": [
       "<matplotlib.figure.Figure at 0x7f7cf096eb00>"
      ]
     },
     "metadata": {},
     "output_type": "display_data"
    }
   ],
   "source": [
    "regret_plt(best_arms_mean, total_rewards_mega)"
   ]
  },
  {
   "cell_type": "markdown",
   "metadata": {},
   "source": [
    "# MEGA expected regret curve\n",
    "This next section is designed to show the expected regret curve using a Monte-Carlo strategy."
   ]
  },
  {
   "cell_type": "code",
   "execution_count": 9,
   "metadata": {
    "collapsed": true
   },
   "outputs": [],
   "source": [
    "mega_rewards = np.zeros((mc_horizon, t_horizon))"
   ]
  },
  {
   "cell_type": "code",
   "execution_count": 11,
   "metadata": {
    "collapsed": false
   },
   "outputs": [],
   "source": [
    "for t in range(mc_horizon):\n",
    "    rewards, collisions = mega_routine(n_users, mega_params, n_arms, t_horizon, arm_means, alg='eps')\n",
    "    mega_rewards[t, :] = np.sum(rewards, axis=0)"
   ]
  },
  {
   "cell_type": "code",
   "execution_count": null,
   "metadata": {
    "collapsed": true
   },
   "outputs": [],
   "source": []
  }
 ],
 "metadata": {
  "kernelspec": {
   "display_name": "Python 3",
   "language": "python",
   "name": "python3"
  },
  "language_info": {
   "codemirror_mode": {
    "name": "ipython",
    "version": 3
   },
   "file_extension": ".py",
   "mimetype": "text/x-python",
   "name": "python",
   "nbconvert_exporter": "python",
   "pygments_lexer": "ipython3",
   "version": "3.5.2"
  }
 },
 "nbformat": 4,
 "nbformat_minor": 2
}
